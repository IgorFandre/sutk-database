{
 "cells": [
  {
   "cell_type": "markdown",
   "metadata": {},
   "source": [
    "### Необходимые импорты"
   ]
  },
  {
   "cell_type": "code",
   "execution_count": 1,
   "metadata": {},
   "outputs": [],
   "source": [
    "import datetime\n",
    "from decimal import *\n",
    "from dotenv import load_dotenv\n",
    "from faker import Faker\n",
    "import json\n",
    "import pandas as pd\n",
    "import time\n",
    "import numpy as np\n",
    "import psycopg2\n",
    "import random\n",
    "import os"
   ]
  },
  {
   "cell_type": "markdown",
   "metadata": {},
   "source": [
    "### Подключение к базе данных"
   ]
  },
  {
   "cell_type": "code",
   "execution_count": 2,
   "metadata": {},
   "outputs": [],
   "source": [
    "load_dotenv()\n",
    "\n",
    "db_name = 'project'\n",
    "db_user = os.environ.get(\"DB_USER\")\n",
    "db_password = os.environ.get(\"DB_PASSWORD\")\n",
    "db_host = os.environ.get(\"DB_HOST\")\n",
    "db_port = os.environ.get(\"DB_PORT\")\n",
    "\n",
    "# Подключение к базе данных\n",
    "conn = psycopg2.connect(\n",
    "    dbname=db_name,\n",
    "    user=db_user,\n",
    "    password=db_password,\n",
    "    host=db_host,\n",
    "    port=db_port\n",
    ")\n",
    "\n",
    "# Создание курсора для выполнения SQL запросов\n",
    "cursor = conn.cursor()\n",
    "\n",
    "# Объект для генерации фейковых данных\n",
    "fake = Faker(\"ru_RU\")\n",
    "fake_en = Faker()"
   ]
  },
  {
   "cell_type": "markdown",
   "metadata": {},
   "source": [
    "Cоздание базы данных, если она еще не была создана"
   ]
  },
  {
   "cell_type": "code",
   "execution_count": 3,
   "metadata": {},
   "outputs": [],
   "source": [
    "sql_files_to_execute = [\n",
    "    \"../sql_scripts/create.sql\",\n",
    "    \"../sql_scripts/indexes.sql\",\n",
    "    \"../sql_scripts/views.sql\",\n",
    "    \"../sql_scripts/procedures.sql\",\n",
    "    \"../sql_scripts/functions.sql\"\n",
    "]\n",
    "\n",
    "sql_insert_to_execute = [\n",
    "    '''\n",
    "    INSERT INTO sutk.departments (name, phone, email)\n",
    "    VALUES\n",
    "        ('Отдел продаж', '+7(111)111-11-22', 'sales@example.com'),\n",
    "        ('Отдел маркетинга', '+7(222)222-22-22', 'marketing@example.com'),\n",
    "        ('Отдел разработки', '+7(333)333-33-33', 'development@example.com'),\n",
    "        ('Отдел поддержки', '+7(444)444-44-44', 'support@example.com'),\n",
    "        ('Отдел качества', '+7(555)555-55-55', 'quality@example.com');\n",
    "    ''',\n",
    "\n",
    "    '''\n",
    "    INSERT INTO sutk.status_types (name)\n",
    "    VALUES\n",
    "        ('Проверка заказа'),\n",
    "        ('Ожидание оплаты'),\n",
    "        ('Сбор заказа'),\n",
    "        ('Доставка'),\n",
    "        ('Самовывоз');\n",
    "    ''',\n",
    "\n",
    "    # Всех товаров для удобства по 100'000 единиц\n",
    "    '''\n",
    "    INSERT INTO sutk.products (name, quality, description, price, available, weight)\n",
    "    VALUES\n",
    "        ('Лист горячекатаный', 'ГОСТ 14637-89', 'Лист горячекатаный из углеродистой стали', 15000.99, 100000, 0.052),\n",
    "        ('Уголок стальной', 'ГОСТ 8509-93', 'Уголок стальной для различных конструкций', 7550.5, 100000, 0.031),\n",
    "        ('Труба квадратная', 'ГОСТ 8639-82', 'Профильная труба квадратного сечения', 2008.5, 100000, 0.038),\n",
    "        ('Балка двутавровая', 'ГОСТ 8239-89', 'Двутавровая балка из углеродистой стали', 30025.5, 100000, 0.051),\n",
    "        ('Проволока сварочная', 'ГОСТ 2246-70', 'Проволока для сварки различных металлических конструкций', 5030, 100000, 0.040),\n",
    "        ('Лист оцинкованный', 'ГОСТ 14918-80', 'Лист оцинкованный для защиты металлических поверхностей', 18090, 100000, 0.061),\n",
    "        ('Труба круглая', 'ГОСТ 8732-78', 'Труба круглого сечения для различных инженерных целей', 22040, 100000, 0.102),\n",
    "        ('Швеллер гнутый', 'ГОСТ 8240-97', 'Швеллер для создания каркасов и несущих конструкций', 12075, 100000, 0.013),\n",
    "        ('Полоса стальная', 'ГОСТ 103-76', 'Полоса стальная для различных видов обработки', 7060, 100000, 0.010),\n",
    "        ('Арматура строительная', 'ГОСТ 5781-82', 'Арматура изготовленная согласно стандарту ГОСТ', 9020, 100000, 0.012),\n",
    "        ('Труба прямоугольная', 'ГОСТ 8645-68', 'Прямоугольная труба для строительства и машиностроения', 25060, 100000, 0.011),\n",
    "        ('Уголок нержавеющий', 'ГОСТ 8567-93', 'Уголок из нержавеющей стали', 15080, 100000, 0.025),\n",
    "        ('Лента прокатанная', 'ГОСТ 2284-79', 'Лента прокатанная для облицовки и отделки', 8090, 100000, 0.041),\n",
    "        ('Труба электросварная', 'ГОСТ 10706-76', 'Труба электросварная для транспортировки жидкостей и газов', 19030, 100000, 0.063),\n",
    "        ('Полоса нержавеющая', 'ГОСТ 103-2006', 'Полоса нержавеющая для промышленного использования', 11050, 100000, 0.031),\n",
    "        ('Сталь круглая', 'ГОСТ 2590-88', 'Пруток круглого сечения из углеродистой стали', 16070, 100000, 0.01),\n",
    "        ('Уголок гнутый', 'ГОСТ 8509-93', 'Угловой профиль для строительства и декоративных элементов', 7040, 100000, 0.028),\n",
    "        ('Швеллер гнутый', 'ГОСТ 8240-97', 'Швеллер для создания каркасов и несущих конструкций', 13025, 100000, 0.015),\n",
    "        ('Проволока горячекатаная', 'ГОСТ 7372-79', 'Проволока для изготовления сеток и крепежных элементов', 6030, 100000, 0.012),\n",
    "        ('Стальной штампованный лист', 'ГОСТ 19904-83', 'Лист стальной полученный методом штамповки', 20090, 100000, 0.015),\n",
    "        ('Труба спирально-навивная', 'ГОСТ 20295-85', 'Труба спирально-навивная для транспортировки продуктов', 24040, 100000, 0.056),\n",
    "        ('Полоса оцинкованная', 'ГОСТ 14918-80', 'Полоса оцинкованная для различного применения', 9060, 10000, 0.020),\n",
    "        ('Уголок широкополочный', 'ГОСТ 8509-93', 'Уголок широкополочный для инженерных конструкций', 8070, 100000, 0.015),\n",
    "        ('Труба оцинкованная', 'ГОСТ 3262-75', 'Труба оцинкованная для водопровода и отопления', 21080, 100000, 0.073),\n",
    "        ('Проволока нержавеющая', 'ГОСТ 18143-72', 'Проволока из нержавеющей стали', 12050, 100000, 0.101);\n",
    "    '''\n",
    "]\n",
    "\n",
    "for script in sql_files_to_execute:\n",
    "    cursor.execute(open(script, \"r\").read())\n",
    "\n",
    "for insert in sql_insert_to_execute:\n",
    "    cursor.execute(insert)"
   ]
  },
  {
   "cell_type": "markdown",
   "metadata": {},
   "source": [
    "## Генерация данных"
   ]
  },
  {
   "cell_type": "markdown",
   "metadata": {},
   "source": [
    "Фиксируем константы"
   ]
  },
  {
   "cell_type": "code",
   "execution_count": 4,
   "metadata": {},
   "outputs": [],
   "source": [
    "cursor.execute('SELECT count(*) FROM sutk.products;')\n",
    "result = cursor.fetchall()\n",
    "PRODUCTS_NUM = result[0][0]\n",
    "\n",
    "cursor.execute('SELECT name FROM sutk.departments;')\n",
    "result = cursor.fetchall()\n",
    "DEPARTMENT_NAMES = [name[0] for name in result]\n",
    "\n",
    "STATUS_NAMES = 5"
   ]
  },
  {
   "cell_type": "markdown",
   "metadata": {},
   "source": [
    "Генерируем данные таблицы workers"
   ]
  },
  {
   "cell_type": "code",
   "execution_count": 5,
   "metadata": {},
   "outputs": [],
   "source": [
    "WORKER_NUM = random.randint(100, 600)\n",
    "\n",
    "for _ in range(WORKER_NUM):\n",
    "    if random.randint(0, 1) == 0:\n",
    "        name = fake.first_name_female()\n",
    "        surname = fake.last_name_female()\n",
    "    else:\n",
    "        name = fake.first_name_male()\n",
    "        surname = fake.last_name_male()\n",
    "\n",
    "    middle_name = 'NULL'\n",
    "    \n",
    "    dep_id = random.randint(1, len(DEPARTMENT_NAMES))\n",
    "\n",
    "    cursor.execute(\n",
    "        \"INSERT INTO sutk.workers (department_id, name, surname, middle_name) VALUES (%s, %s, %s, %s)\",\n",
    "        (dep_id, name, surname, middle_name)\n",
    "    )\n",
    "\n",
    "conn.commit()"
   ]
  },
  {
   "cell_type": "markdown",
   "metadata": {},
   "source": [
    "Генерируем данные таблицы clients"
   ]
  },
  {
   "cell_type": "code",
   "execution_count": 6,
   "metadata": {},
   "outputs": [],
   "source": [
    "cursor.execute('SELECT count(*) FROM sutk.workers;')\n",
    "result = cursor.fetchall()\n",
    "WORKER_NUM = result[0][0]\n",
    "\n",
    "companies = set()\n",
    "\n",
    "CLIENT_NUM = random.randint(800, 1500)\n",
    "\n",
    "for _ in range(CLIENT_NUM):\n",
    "    if random.randint(0, 1) == 0:\n",
    "        name = fake.first_name_female()\n",
    "        surname = fake.last_name_female()\n",
    "    else:\n",
    "        name = fake.first_name_male()\n",
    "        surname = fake.last_name_male()\n",
    "    \n",
    "    contact_name = name + ' ' + surname\n",
    "    \n",
    "    if random.randint(0, 1) == 0:\n",
    "        company_name = fake.company()\n",
    "    else:\n",
    "        company_name = fake_en.company()\n",
    "    \n",
    "    contact_phone = f'+7({random.randint(100, 999)}){random.randint(100, 999)}-{random.randint(10, 99)}-{random.randint(10, 99)}'\n",
    "    \n",
    "    if company_name in companies:\n",
    "        continue\n",
    "\n",
    "    companies.add(company_name)\n",
    "    \n",
    "    worker_id = random.randint(1, WORKER_NUM)\n",
    "\n",
    "    cursor.execute(\n",
    "        \"INSERT INTO sutk.clients (worker_id, company, contact_name, contact_phone) VALUES (%s, %s, %s, %s)\",\n",
    "        (worker_id, company_name, contact_name, contact_phone)\n",
    "    )\n",
    "\n",
    "conn.commit()\n",
    "\n",
    "CLIENT_NUM = len(companies)"
   ]
  },
  {
   "cell_type": "markdown",
   "metadata": {},
   "source": [
    "Генерируем данные таблицы addresses"
   ]
  },
  {
   "cell_type": "code",
   "execution_count": 7,
   "metadata": {},
   "outputs": [],
   "source": [
    "cursor.execute(\n",
    "    f\"SELECT client_id FROM sutk.clients;\",\n",
    ")\n",
    "clients = cursor.fetchall()\n",
    "\n",
    "for cl_id in clients:\n",
    "    address_num = random.randint(0, 7)\n",
    "    dates = [dt.strftime('%Y-%m-%d %H:%M:%S') for dt in pd.date_range(start='1/1/2011', end=datetime.date.today(), periods = address_num+1).to_pydatetime().tolist()]\n",
    "    \n",
    "    for i in range(address_num):\n",
    "        if i + 1 == address_num:\n",
    "            cursor.execute(\n",
    "                \"INSERT INTO sutk.addresses (client_id, address, from_date) VALUES (%s, %s, %s)\",\n",
    "                (cl_id[0], fake.address(), dates[i])\n",
    "            )\n",
    "        else:\n",
    "            cursor.execute(\n",
    "                \"INSERT INTO sutk.addresses (client_id, address, from_date, to_date) VALUES (%s, %s, %s, %s)\",\n",
    "                (cl_id[0], fake.address(), dates[i], dates[i+1])\n",
    "            )\n",
    "\n",
    "conn.commit()"
   ]
  },
  {
   "cell_type": "markdown",
   "metadata": {},
   "source": [
    "Генерируем данные таблицы orders"
   ]
  },
  {
   "cell_type": "code",
   "execution_count": 8,
   "metadata": {},
   "outputs": [],
   "source": [
    "def get_random_date():\n",
    "    start_date = datetime.datetime(2014, 1, 1)\n",
    "    end_date = datetime.datetime(2023, 12, 31)\n",
    "    \n",
    "    date = start_date + (end_date - start_date) * random.random()\n",
    "    hour = random.randint(0, 23)\n",
    "    minute = random.randint(0, 59)\n",
    "\n",
    "    datetime_obj = datetime.datetime(date.year, date.month, date.day, hour, minute, 0)\n",
    "    return datetime_obj.strftime('%Y-%m-%d %H:%M:00')\n",
    "\n",
    "\n",
    "for cl_id in range(1, CLIENT_NUM + 1):\n",
    "    order_num = random.randint(0, 10)\n",
    "\n",
    "    cursor.execute(\n",
    "        f\"SELECT from_date FROM sutk.addresses WHERE client_id = {cl_id} ORDER BY from_date ASC LIMIT 1;\",\n",
    "    )\n",
    "    first_address_date = cursor.fetchall()\n",
    "    delivery = 'TRUE' if random.randint(0, 1) != 0 else 'FALSE'\n",
    "    \n",
    "    for i in range(1, order_num + 1):\n",
    "        dt = pd.date_range(start='1/1/2011', end=datetime.date.today(), periods=3).to_pydatetime().tolist()[1].strftime('%Y-%m-%d %H:%M:%S')\n",
    "\n",
    "        cursor.execute(\n",
    "            \"INSERT INTO sutk.orders (client_id, description, delivery, order_date) VALUES (%s, %s, %s, %s)\",\n",
    "            (cl_id, f\"Order {i} for User {cl_id}\", delivery, get_random_date())\n",
    "        )\n",
    "\n",
    "conn.commit()"
   ]
  },
  {
   "cell_type": "markdown",
   "metadata": {},
   "source": [
    "Генерируем данные таблицы order_statuses"
   ]
  },
  {
   "cell_type": "code",
   "execution_count": null,
   "metadata": {},
   "outputs": [],
   "source": [
    "cursor.execute(\n",
    "    f\"SELECT order_id, delivery, order_date FROM sutk.orders;\",\n",
    ")\n",
    "orders = cursor.fetchall()\n",
    "\n",
    "for order in orders:\n",
    "    phases = random.randint(1, 4)\n",
    "    dates = [dt.strftime('%Y-%m-%d %H:%M:%S') for dt in pd.date_range(start=order[2], end=datetime.date.today(), periods = phases+2).to_pydatetime().tolist()]\n",
    "    \n",
    "    for i in range(1, phases + 1):\n",
    "        if i < 4:\n",
    "            status_id = i\n",
    "            if i == phases:\n",
    "                dates[i] = None\n",
    "        else:\n",
    "            status_id = 4 if order[1] else 5\n",
    "            if random.randint(0, 4) == 0:\n",
    "                dates[i] = None\n",
    "\n",
    "        cursor.execute(\n",
    "            \"INSERT INTO sutk.order_statuses (worker_id, order_id, status_id, from_date, to_date) VALUES (%s, %s, %s, %s, %s);\",\n",
    "            (random.randint(1, WORKER_NUM), order[0], status_id, dates[i - 1], dates[i])\n",
    "        )\n",
    "\n",
    "conn.commit()"
   ]
  },
  {
   "cell_type": "markdown",
   "metadata": {},
   "source": [
    "Генерируем данные таблицы ordered_products"
   ]
  },
  {
   "cell_type": "code",
   "execution_count": 11,
   "metadata": {},
   "outputs": [],
   "source": [
    "cursor.execute(\n",
    "    f\"SELECT order_id FROM sutk.orders;\",\n",
    ")\n",
    "orders = [order_id[0] for order_id in cursor.fetchall()]\n",
    "\n",
    "for order in orders:\n",
    "    products = random.choices(range(1, PRODUCTS_NUM + 1), k=random.randint(1, 5))\n",
    "    for product_id in set(products):\n",
    "        cursor.execute(\n",
    "            \"INSERT INTO sutk.ordered_products (order_id, product_id, count) VALUES (%s, %s, %s);\",\n",
    "            (order, product_id, random.randint(1, 4))\n",
    "        )\n",
    "\n",
    "conn.commit()"
   ]
  },
  {
   "cell_type": "markdown",
   "metadata": {},
   "source": [
    "### Закрываем соединение с базой данных"
   ]
  },
  {
   "cell_type": "code",
   "execution_count": 12,
   "metadata": {},
   "outputs": [],
   "source": [
    "conn.commit()\n",
    "cursor.close()\n",
    "conn.close()"
   ]
  }
 ],
 "metadata": {
  "kernelspec": {
   "display_name": "venv",
   "language": "python",
   "name": "python3"
  },
  "language_info": {
   "codemirror_mode": {
    "name": "ipython",
    "version": 3
   },
   "file_extension": ".py",
   "mimetype": "text/x-python",
   "name": "python",
   "nbconvert_exporter": "python",
   "pygments_lexer": "ipython3",
   "version": "3.12.2"
  },
  "orig_nbformat": 4
 },
 "nbformat": 4,
 "nbformat_minor": 2
}
